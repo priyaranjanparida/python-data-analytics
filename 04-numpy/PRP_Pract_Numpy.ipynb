{
 "cells": [
  {
   "cell_type": "code",
   "execution_count": 1,
   "id": "94c740f0-bdaa-4e6c-8741-091af624f201",
   "metadata": {},
   "outputs": [
    {
     "data": {
      "text/plain": [
       "'1.23.5'"
      ]
     },
     "execution_count": 1,
     "metadata": {},
     "output_type": "execute_result"
    }
   ],
   "source": [
    "# Import numpy and Version Check \n",
    "import numpy as np\n",
    "np.__version__"
   ]
  },
  {
   "cell_type": "code",
   "execution_count": 2,
   "id": "714400b2-ebd7-40cf-a643-320e893c968f",
   "metadata": {},
   "outputs": [
    {
     "data": {
      "text/plain": [
       "array([1, 2, 3])"
      ]
     },
     "execution_count": 2,
     "metadata": {},
     "output_type": "execute_result"
    }
   ],
   "source": [
    "# Declare a numpy array \n",
    "x = np.array([1,2,3])\n",
    "x"
   ]
  },
  {
   "cell_type": "code",
   "execution_count": 3,
   "id": "5d1fb0a4-2a56-42fe-8808-670a3951f656",
   "metadata": {},
   "outputs": [],
   "source": [
    "# Create an array \n",
    "P = np.arange(10)"
   ]
  },
  {
   "cell_type": "code",
   "execution_count": 4,
   "id": "87b2c9c1-7339-4349-8831-66e848fd13ab",
   "metadata": {},
   "outputs": [
    {
     "name": "stdout",
     "output_type": "stream",
     "text": [
      "[0 1 2 3 4 5 6 7 8 9]\n"
     ]
    }
   ],
   "source": [
    "## Access the array elements(Indexing and Slicing)\n",
    "print(P)"
   ]
  },
  {
   "cell_type": "code",
   "execution_count": 5,
   "id": "34cfc464-77ee-40f6-935b-81ebeb6a8222",
   "metadata": {},
   "outputs": [
    {
     "data": {
      "text/plain": [
       "array([0, 1, 2])"
      ]
     },
     "execution_count": 5,
     "metadata": {},
     "output_type": "execute_result"
    }
   ],
   "source": [
    "P[:3]"
   ]
  },
  {
   "cell_type": "code",
   "execution_count": 6,
   "id": "4efeadb3-567e-469c-9254-667f46a0bedc",
   "metadata": {},
   "outputs": [
    {
     "name": "stdout",
     "output_type": "stream",
     "text": [
      "0\n"
     ]
    }
   ],
   "source": [
    "print(P[0])"
   ]
  },
  {
   "cell_type": "code",
   "execution_count": 7,
   "id": "fe3a6abb-1ad2-4ec4-9ccf-bdce52975d21",
   "metadata": {},
   "outputs": [
    {
     "name": "stdout",
     "output_type": "stream",
     "text": [
      "1\n"
     ]
    }
   ],
   "source": [
    "print(P[1])"
   ]
  },
  {
   "cell_type": "code",
   "execution_count": 8,
   "id": "b6025805-3948-44fb-81b6-f62d5626f4ae",
   "metadata": {},
   "outputs": [
    {
     "name": "stdout",
     "output_type": "stream",
     "text": [
      "[-1]\n"
     ]
    }
   ],
   "source": [
    "print([-1])"
   ]
  },
  {
   "cell_type": "code",
   "execution_count": 9,
   "id": "0cd56091-35fc-4dfb-ae76-e5f8e2880e8a",
   "metadata": {},
   "outputs": [
    {
     "name": "stdout",
     "output_type": "stream",
     "text": [
      "[0 1 2 3 4 5 6 7 8 9]\n"
     ]
    }
   ],
   "source": [
    "print(P[:])"
   ]
  },
  {
   "cell_type": "code",
   "execution_count": 10,
   "id": "56a62836-3982-4bc4-8b08-67ddc6f4a196",
   "metadata": {},
   "outputs": [
    {
     "name": "stdout",
     "output_type": "stream",
     "text": [
      "[1 2 3 4 5 6 7 8]\n"
     ]
    }
   ],
   "source": [
    "print(P[1:-1])"
   ]
  },
  {
   "cell_type": "code",
   "execution_count": 11,
   "id": "15441ec9-5dc5-40f7-bff2-e9190c2926cd",
   "metadata": {},
   "outputs": [
    {
     "data": {
      "text/plain": [
       "array([[1, 2, 3],\n",
       "       [4, 5, 6]])"
      ]
     },
     "execution_count": 11,
     "metadata": {},
     "output_type": "execute_result"
    }
   ],
   "source": [
    "## Reshape an array to a new format\n",
    "a= np.array([1,2,3,4,5,6])\n",
    "a.reshape(2,3)  ##  2 rows and 3 column format "
   ]
  },
  {
   "cell_type": "code",
   "execution_count": 12,
   "id": "67802684-cdfe-465a-82b5-4ad6b32777b5",
   "metadata": {},
   "outputs": [],
   "source": [
    "# Create specific type of arrays "
   ]
  },
  {
   "cell_type": "code",
   "execution_count": 13,
   "id": "fc1c3e15-cc18-4ceb-9f72-2d29b799c2df",
   "metadata": {},
   "outputs": [
    {
     "data": {
      "text/plain": [
       "array([0, 0, 0, 0, 0, 0, 0, 0, 0, 0])"
      ]
     },
     "execution_count": 13,
     "metadata": {},
     "output_type": "execute_result"
    }
   ],
   "source": [
    "np.zeros(10, dtype = int) ## Array of all zeros "
   ]
  },
  {
   "cell_type": "code",
   "execution_count": 14,
   "id": "58f079fc-6562-41c8-9aa7-e47b01662d22",
   "metadata": {},
   "outputs": [
    {
     "data": {
      "text/plain": [
       "array([1., 1., 1., 1., 1., 1., 1., 1., 1., 1.])"
      ]
     },
     "execution_count": 14,
     "metadata": {},
     "output_type": "execute_result"
    }
   ],
   "source": [
    "np.ones(10, dtype =float) ## array of all ones"
   ]
  },
  {
   "cell_type": "code",
   "execution_count": 15,
   "id": "fbec8058-d99c-4755-a6ac-3ff3e1e13f53",
   "metadata": {},
   "outputs": [],
   "source": [
    "## Array creation with array elements "
   ]
  },
  {
   "cell_type": "code",
   "execution_count": 16,
   "id": "a18d1541-91d2-491d-82e9-9e9b8177702c",
   "metadata": {},
   "outputs": [
    {
     "data": {
      "text/plain": [
       "array([3, 6, 6, 5, 3, 3, 6, 9, 2])"
      ]
     },
     "execution_count": 16,
     "metadata": {},
     "output_type": "execute_result"
    }
   ],
   "source": [
    "np.random.randint(1,10,9) ## Array with random integer elements "
   ]
  },
  {
   "cell_type": "code",
   "execution_count": 17,
   "id": "4123fd51-fe70-457b-8054-29fcf172eaa9",
   "metadata": {},
   "outputs": [
    {
     "data": {
      "text/plain": [
       "array([[9, 1, 5],\n",
       "       [3, 4, 9],\n",
       "       [1, 2, 7]])"
      ]
     },
     "execution_count": 17,
     "metadata": {},
     "output_type": "execute_result"
    }
   ],
   "source": [
    "np.random.randint(1,10,(3,3)) ## No need to define number o array elements as 3*3 matris will have 9 elements"
   ]
  },
  {
   "cell_type": "code",
   "execution_count": 18,
   "id": "a15b8df0-fdcc-487b-84d1-d04948ecdedf",
   "metadata": {},
   "outputs": [
    {
     "data": {
      "text/plain": [
       "array([[9, 9, 2],\n",
       "       [9, 6, 5],\n",
       "       [1, 2, 9]])"
      ]
     },
     "execution_count": 18,
     "metadata": {},
     "output_type": "execute_result"
    }
   ],
   "source": [
    "np.random.randint(1,10,9).reshape(3,3) ## Can reshape 9 elements into 3*3 matrix"
   ]
  },
  {
   "cell_type": "code",
   "execution_count": 19,
   "id": "52548b09-333f-40aa-9dff-a15f8e22b83c",
   "metadata": {},
   "outputs": [
    {
     "data": {
      "text/plain": [
       "array([0.54047734, 0.97441156, 0.47970811, 0.99869889, 0.55143541,\n",
       "       0.48178691, 0.96434373, 0.9990676 , 0.3698882 , 0.96092727])"
      ]
     },
     "execution_count": 19,
     "metadata": {},
     "output_type": "execute_result"
    }
   ],
   "source": [
    "np.random.random(10) ## Array with random float elements between 0 to 1"
   ]
  },
  {
   "cell_type": "code",
   "execution_count": 20,
   "id": "ec73ff61-b29c-486a-af74-046a773f3d0e",
   "metadata": {},
   "outputs": [
    {
     "data": {
      "text/plain": [
       "array([[0.57792429, 0.61601681],\n",
       "       [0.23750028, 0.45808649],\n",
       "       [0.55417283, 0.93860767],\n",
       "       [0.58642868, 0.24505162],\n",
       "       [0.84636788, 0.86731499]])"
      ]
     },
     "execution_count": 20,
     "metadata": {},
     "output_type": "execute_result"
    }
   ],
   "source": [
    "np.random.random(10).reshape(5,2) # Reshaping the array to a new dimension"
   ]
  },
  {
   "cell_type": "code",
   "execution_count": 21,
   "id": "894c392d-70d2-4ac6-a734-0cc1107b9158",
   "metadata": {},
   "outputs": [
    {
     "data": {
      "text/plain": [
       "array([5.02245878, 2.47921283, 6.11464489, 4.07976078, 6.33106654,\n",
       "       1.92006929, 7.71556124, 6.44630617, 7.90484443, 6.3963673 ])"
      ]
     },
     "execution_count": 21,
     "metadata": {},
     "output_type": "execute_result"
    }
   ],
   "source": [
    "10* np.random.random(10) ## Array with float numbers between 1 to 10 "
   ]
  },
  {
   "cell_type": "code",
   "execution_count": 22,
   "id": "d927717f-8509-4ab7-9fdb-85ec1e64fc59",
   "metadata": {},
   "outputs": [
    {
     "data": {
      "text/plain": [
       "array([1.76175951, 2.85924478, 2.93384172, 4.1380442 , 5.0659805 ,\n",
       "       6.61056134, 6.65439049, 6.82882199, 7.88614719, 8.57177721])"
      ]
     },
     "execution_count": 22,
     "metadata": {},
     "output_type": "execute_result"
    }
   ],
   "source": [
    "np.sort(10* np.random.random(10)) ## np.sort sorts the array"
   ]
  },
  {
   "cell_type": "code",
   "execution_count": 23,
   "id": "94cb2ac3-994a-4caa-8126-f0ef74bca358",
   "metadata": {},
   "outputs": [
    {
     "data": {
      "text/plain": [
       "array([[1.57048819, 2.15702844],\n",
       "       [2.61723003, 8.08641877],\n",
       "       [2.91266485, 9.05019716],\n",
       "       [2.26790673, 7.96682722],\n",
       "       [7.10749998, 9.48046874]])"
      ]
     },
     "execution_count": 23,
     "metadata": {},
     "output_type": "execute_result"
    }
   ],
   "source": [
    "np.sort(10* np.random.random(10).reshape(5,2)) ## Create a 2-D array and soort it "
   ]
  },
  {
   "cell_type": "code",
   "execution_count": 24,
   "id": "316b9a2a-2a45-41df-b3cb-9d9edd810657",
   "metadata": {},
   "outputs": [
    {
     "data": {
      "text/plain": [
       "array([ 0. ,  2.5,  5. ,  7.5, 10. ])"
      ]
     },
     "execution_count": 24,
     "metadata": {},
     "output_type": "execute_result"
    }
   ],
   "source": [
    "np.linspace(0,10,5) ## linspace will create 5 elements from 0 to 10 "
   ]
  },
  {
   "cell_type": "code",
   "execution_count": 25,
   "id": "02e2006d-81d6-4912-ae74-73abaf457642",
   "metadata": {},
   "outputs": [],
   "source": [
    "s= np.linspace(1,20,5, dtype= int) ## creates 5 elements from 1 to 20 of integer type "
   ]
  },
  {
   "cell_type": "code",
   "execution_count": 26,
   "id": "253f9036-0f51-42bc-bc08-5dda89f7b6df",
   "metadata": {},
   "outputs": [
    {
     "data": {
      "text/plain": [
       "20"
      ]
     },
     "execution_count": 26,
     "metadata": {},
     "output_type": "execute_result"
    }
   ],
   "source": [
    "np.max(s)"
   ]
  },
  {
   "cell_type": "code",
   "execution_count": 27,
   "id": "42905dab-1ec8-420b-9cd6-7f40a836eea9",
   "metadata": {},
   "outputs": [
    {
     "data": {
      "text/plain": [
       "array([0, 1, 2, 3, 4, 5, 6, 7, 8, 9])"
      ]
     },
     "execution_count": 27,
     "metadata": {},
     "output_type": "execute_result"
    }
   ],
   "source": [
    "np.arange(0,10,1) # Creates an array from 0 to 10 with a spacing of 1"
   ]
  },
  {
   "cell_type": "code",
   "execution_count": 28,
   "id": "46f3e208-57b9-410f-bb89-cecc53597710",
   "metadata": {},
   "outputs": [
    {
     "data": {
      "text/plain": [
       "1"
      ]
     },
     "execution_count": 28,
     "metadata": {},
     "output_type": "execute_result"
    }
   ],
   "source": [
    "np.min(s)"
   ]
  },
  {
   "cell_type": "code",
   "execution_count": 29,
   "id": "b4e9060f-df5d-45aa-b199-d3a000eaa5e7",
   "metadata": {},
   "outputs": [
    {
     "data": {
      "text/plain": [
       "10.2"
      ]
     },
     "execution_count": 29,
     "metadata": {},
     "output_type": "execute_result"
    }
   ],
   "source": [
    "np.mean(s)"
   ]
  },
  {
   "cell_type": "code",
   "execution_count": 30,
   "id": "9b5241dd-7e15-4b4b-bd98-459faf9f5adf",
   "metadata": {},
   "outputs": [
    {
     "data": {
      "text/plain": [
       "10.0"
      ]
     },
     "execution_count": 30,
     "metadata": {},
     "output_type": "execute_result"
    }
   ],
   "source": [
    "np.median(s)"
   ]
  },
  {
   "cell_type": "code",
   "execution_count": 31,
   "id": "a531e9e5-800c-441a-ace3-3f599bb2d682",
   "metadata": {},
   "outputs": [],
   "source": [
    "## Array Math functions"
   ]
  },
  {
   "cell_type": "code",
   "execution_count": 32,
   "id": "5d6e7567-d088-4b66-8e06-eb16b7a13635",
   "metadata": {},
   "outputs": [],
   "source": [
    "x = ([1,2,3,4])\n",
    "y = ([10,20,30,40])"
   ]
  },
  {
   "cell_type": "code",
   "execution_count": 33,
   "id": "5cc2290f-d0c0-4934-a128-61a36fd1fb6d",
   "metadata": {},
   "outputs": [
    {
     "data": {
      "text/plain": [
       "array([11, 22, 33, 44])"
      ]
     },
     "execution_count": 33,
     "metadata": {},
     "output_type": "execute_result"
    }
   ],
   "source": [
    "np.add(x,y)"
   ]
  },
  {
   "cell_type": "code",
   "execution_count": 34,
   "id": "ce20e8e0-b0fe-4323-9d23-0949d7a4bd57",
   "metadata": {},
   "outputs": [
    {
     "data": {
      "text/plain": [
       "array([ -9, -18, -27, -36])"
      ]
     },
     "execution_count": 34,
     "metadata": {},
     "output_type": "execute_result"
    }
   ],
   "source": [
    "np.subtract(x,y)"
   ]
  },
  {
   "cell_type": "code",
   "execution_count": 35,
   "id": "de500ed1-74bf-4099-bbf5-d0c1d0c5c451",
   "metadata": {},
   "outputs": [
    {
     "data": {
      "text/plain": [
       "array([ 10,  40,  90, 160])"
      ]
     },
     "execution_count": 35,
     "metadata": {},
     "output_type": "execute_result"
    }
   ],
   "source": [
    "np.multiply(x,y)"
   ]
  },
  {
   "cell_type": "code",
   "execution_count": 36,
   "id": "94aea78b-69ad-417b-8de1-96436da851a1",
   "metadata": {},
   "outputs": [
    {
     "data": {
      "text/plain": [
       "array([0.1, 0.1, 0.1, 0.1])"
      ]
     },
     "execution_count": 36,
     "metadata": {},
     "output_type": "execute_result"
    }
   ],
   "source": [
    "np.divide(x,y)"
   ]
  },
  {
   "cell_type": "code",
   "execution_count": 37,
   "id": "ba3f86f1-072e-4482-ab2c-d8928330b803",
   "metadata": {},
   "outputs": [
    {
     "data": {
      "text/plain": [
       "array([ 1,  2,  3,  4, 10, 20, 30, 40])"
      ]
     },
     "execution_count": 37,
     "metadata": {},
     "output_type": "execute_result"
    }
   ],
   "source": [
    "np.concatenate((x,y), axis=0)"
   ]
  },
  {
   "cell_type": "code",
   "execution_count": 38,
   "id": "f8f30782-f336-4361-9cc4-9602ea976457",
   "metadata": {},
   "outputs": [
    {
     "data": {
      "text/plain": [
       "[1, 2, 3, 4, 10, 20, 30, 40]"
      ]
     },
     "execution_count": 38,
     "metadata": {},
     "output_type": "execute_result"
    }
   ],
   "source": [
    "x+y"
   ]
  },
  {
   "cell_type": "code",
   "execution_count": 39,
   "id": "ea0d2a9c-33f5-4622-ac8a-6ca56f5c92c2",
   "metadata": {
    "tags": []
   },
   "outputs": [
    {
     "name": "stdout",
     "output_type": "stream",
     "text": [
      "[[1, 2], [3, 4]]\n",
      "[[5, 6], [0, 1]]\n"
     ]
    }
   ],
   "source": [
    "p = ([[1,2],[3,4]])\n",
    "q= ([[5,6],[0,1]])\n",
    "print(p)\n",
    "print(q)"
   ]
  },
  {
   "cell_type": "code",
   "execution_count": 40,
   "id": "28298bb8-ad54-4cdd-9fb8-8490a4e07ed0",
   "metadata": {},
   "outputs": [
    {
     "data": {
      "text/plain": [
       "array([[1, 2],\n",
       "       [3, 4],\n",
       "       [5, 6],\n",
       "       [0, 1]])"
      ]
     },
     "execution_count": 40,
     "metadata": {},
     "output_type": "execute_result"
    }
   ],
   "source": [
    "np.concatenate((p,q), axis=0) ##  Concatenated row wise. Added to row (axis=0 means row)"
   ]
  },
  {
   "cell_type": "code",
   "execution_count": 41,
   "id": "9b30e6e4-9796-49e0-97c7-81bfcc22e93d",
   "metadata": {},
   "outputs": [
    {
     "data": {
      "text/plain": [
       "array([[1, 2, 5, 6],\n",
       "       [3, 4, 0, 1]])"
      ]
     },
     "execution_count": 41,
     "metadata": {},
     "output_type": "execute_result"
    }
   ],
   "source": [
    "np.concatenate((p,q), axis=1) ##  Concatenated column wise. Added to column (axis=1 means column)"
   ]
  },
  {
   "cell_type": "code",
   "execution_count": null,
   "id": "cd4a3cde-38f1-464e-b143-df44a65e1228",
   "metadata": {},
   "outputs": [],
   "source": []
  }
 ],
 "metadata": {
  "kernelspec": {
   "display_name": "Python 3 (ipykernel)",
   "language": "python",
   "name": "python3"
  },
  "language_info": {
   "codemirror_mode": {
    "name": "ipython",
    "version": 3
   },
   "file_extension": ".py",
   "mimetype": "text/x-python",
   "name": "python",
   "nbconvert_exporter": "python",
   "pygments_lexer": "ipython3",
   "version": "3.10.9"
  }
 },
 "nbformat": 4,
 "nbformat_minor": 5
}
